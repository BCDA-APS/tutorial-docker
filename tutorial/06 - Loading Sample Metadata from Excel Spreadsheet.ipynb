{
 "cells": [
  {
   "cell_type": "code",
   "execution_count": 0,
   "metadata": {
    "collapsed": true
   },
   "outputs": [],
   "source": [
    "import pandas as pd"
   ]
  },
  {
   "cell_type": "code",
   "execution_count": 0,
   "metadata": {
    "collapsed": true
   },
   "outputs": [],
   "source": [
    "CONTAINER = None\n",
    "SAMPLE_MAP = {'sample1': {'name': 'AS-21_Spent', 'pos': 252, 'interesting_edges': []},\n",
    "              'sample2': {'name': 'AS-21', 'pos': 259, 'interesting_edges': []},\n",
    "              'sample3': {'name': 'AS-4-1_Spent', 'pos': 267, 'interesting_edges': []},\n",
    "              'sample4': {'name': '30CoCeO2', 'pos': 276, 'interesting_edges': ['Ce_M', 'Co_L2', 'O_K']},\n",
    "              'sample5': {'name': '8CoCeO2', 'pos': 282, 'interesting_edges': ['Ce_M2', 'Co_L', 'O_K']},\n",
    "              'sample6': {'name': '2CoCeO2', 'pos': 290, 'interesting_edges': ['Ce_M', 'Co_L', 'O_K2']},\n",
    "}\n",
    "\n",
    "DET_SETTINGS = {'O_K': {'samplegain': '2', 'sampledecade': '1 nA/V', 'aumeshgain': '5', 'aumeshdecade': '1 nA/V', 'vortex_pos': -220, 'scan_count': 2},\n",
    "              'Ce_M': {'samplegain': '2', 'sampledecade': '1 nA/V', 'aumeshgain': '2', 'aumeshdecade': '1 nA/V', 'vortex_pos': -220, 'scan_count': 2},\n",
    "              'Co_L': {'samplegain': '1', 'sampledecade': '1 nA/V', 'aumeshgain': '2', 'aumeshdecade': '1 nA/V', 'vortex_pos': -220, 'scan_count': 2},\n",
    "\t      'Co_L2': {'samplegain': '5', 'sampledecade': '1 nA/V', 'aumeshgain': '2', 'aumeshdecade': '1 nA/V', 'vortex_pos': -220, 'scan_count':2},\n",
    "\t      'Ce_M2': {'samplegain': '1', 'sampledecade': '1 nA/V', 'aumeshgain': '2', 'aumeshdecade': '1 nA/V', 'vortex_pos': -220, 'scan_count': 2},\n",
    "\t      'O_K2': {'samplegain': '1', 'sampledecade': '1 nA/V', 'aumeshgain': '5', 'aumeshdecade': '1 nA/V', 'vortex_pos': -220, 'scan_count': 2},\n",
    "}\n",
    "\n",
    "\n",
    "#### amostra lookup and update if sample info changed###\n",
    "# for k in SAMPLE_MAP:\n",
    "#     samp = SAMPLE_MAP[k]\n",
    "#     samp['sample_index'] = k\n",
    "    # res = list(sample_reference.find(name=samp['name']))\n",
    "#     if res:\n",
    "#         sample_reference.update(query={'name': samp['name']},\n",
    "#                                 update=samp\n",
    "#                                 )\n",
    "#     else:\n",
    "#         sample_reference.create(**SAMPLE_MAP[k], container=CONTAINER)\n",
    "####\n",
    "\n",
    "\n",
    "def load_samples(fname, container=CONTAINER):\n",
    "    f = pd.read_excel(fname)\n",
    "    SAMPLE_MAP2 = dict() \n",
    "    loaded_excel = f.T.to_dict().values()\n",
    "    for entry in loaded_excel:\n",
    "        samp_idx = entry.pop('sample_index')\n",
    "#        entry['samplegain'] = str(entry['samplegain'])\n",
    "#        entry['aumeshgain'] = str(entry['aumeshgain'])\n",
    "        entry['interesting_edges'] = entry['interesting_edges'].split(', ')\n",
    "        entry['sample_index'] = samp_idx\n",
    "        SAMPLE_MAP2[samp_idx] = entry\n",
    "        # more amostra code below\n",
    "#     for k in SAMPLE_MAP2:\n",
    "#         samp = SAMPLE_MAP2[k]\n",
    "#         res = list(sample_reference.find(name=samp['name']))\n",
    "#         if res:\n",
    "#             sample_reference.update(query={'name': samp['name']},\n",
    "#                                     update=samp \n",
    "# \t                            )\n",
    "#         else:\n",
    "#             sample_reference.create(**SAMPLE_MAP2[k], container=container)\n",
    "    return SAMPLE_MAP2\n",
    "\n",
    "def load_det_settings(fname, container=CONTAINER):\n",
    "    f = pd.read_excel(fname)\n",
    "    SAMPLE_MAP2 = dict()\n",
    "    loaded_excel = f.T.to_dict().values()\n",
    "    for entry in loaded_excel:\n",
    "        edge_idx = entry.pop('edge_index')\n",
    "        entry['samplegain'] = str(entry['samplegain'])\n",
    "        entry['aumeshgain'] = str(entry['aumeshgain'])\n",
    "        entry['edge_index'] = edge_idx\n",
    "        SAMPLE_MAP2[edge_idx] = entry\n",
    "    # All amostra stuff\n",
    "#    for k in SAMPLE_MAP2:\n",
    "#        samp = SAMPLE_MAP2[k]\n",
    "#        res = list(sample_reference.find(name=samp['name']))\n",
    "#        if res:\n",
    "#            sample_reference.update(query={'name': samp['name']},\n",
    "#                                    update=samp\n",
    "#                                    )\n",
    "#        else:\n",
    "#            sample_reference.create(**SAMPLE_MAP2[k], container=container)\n",
    "    return SAMPLE_MAP2\n",
    "\n",
    "\n",
    "# SAMPLE_MAP = load_samples('/home/xf23id2/Desktop/mock_sample.xlsx', container=CONTAINER)\n"
   ]
  },
  {
   "cell_type": "code",
   "execution_count": 0,
   "metadata": {
    "collapsed": true
   },
   "outputs": [],
   "source": []
  }
 ],
 "metadata": {
  "kernelspec": {
   "display_name": "Python 3",
   "language": "python",
   "name": "python3"
  },
  "language_info": {
   "codemirror_mode": {
    "name": "ipython",
    "version": 3
   },
   "file_extension": ".py",
   "mimetype": "text/x-python",
   "name": "python",
   "nbconvert_exporter": "python",
   "pygments_lexer": "ipython3",
   "version": "3.5.3"
  }
 },
 "nbformat": 4,
 "nbformat_minor": 2
}