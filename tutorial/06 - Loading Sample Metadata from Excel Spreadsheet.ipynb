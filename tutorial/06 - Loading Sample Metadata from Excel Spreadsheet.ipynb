{
 "cells": [
  {
   "cell_type": "code",
   "execution_count": 0,
   "metadata": {},
   "outputs": [],
   "source": [
    "import pandas as pd\n",
    "\n",
    "# EDGE_MAP {'element': {'start': , 'stop': 'num': }}"
   ]
  },
  {
   "cell_type": "code",
   "execution_count": 0,
   "metadata": {
    "collapsed": true
   },
   "outputs": [],
   "source": [
    "\n",
    "SAMPLE_MAP = {'sample1': {'name': 'AS-21_Spent', 'pos': 252, 'interesting_edges': []},\n",
    "          'sample2': {'name': 'AS-21', 'pos': 259, 'interesting_edges': []},\n",
    "          'sample3': {'name': 'AS-4-1_Spent', 'pos': 267, 'interesting_edges': []},\n",
    "          'sample4': {'name': '30CoCeO2', 'pos': 276, 'interesting_edges': ['Ce_M', 'Co_L2', 'O_K']},\n",
    "          'sample5': {'name': '8CoCeO2', 'pos': 282, 'interesting_edges': ['Ce_M2', 'Co_L', 'O_K']},\n",
    "          'sample6': {'name': '2CoCeO2', 'pos': 290, 'interesting_edges': ['Ce_M', 'Co_L', 'O_K2']},\n",
    "}\n",
    "\n",
    "\n",
    "def mulit_sample_count(detectors, sample_map, position_motor,\n",
    "                       md=None, **kwargs):\n",
    "    dets = list(detectors) + [position_motor]\n",
    "    for sample in sample_map.values():\n",
    "        _md = dict(sample)\n",
    "        _md.update(md or {})\n",
    "        pos = sample['pos']\n",
    "        yield from bp.mv(position_motor, pos)\n",
    "        yield from bp.count(dets, md=_md, **kwargs)"
   ]
  },
  {
   "cell_type": "code",
   "execution_count": 0,
   "metadata": {},
   "outputs": [],
   "source": [
    "pd.DataFrame().to_excel('asdf.xlsx')"
   ]
  },
  {
   "cell_type": "code",
   "execution_count": 0,
   "metadata": {
    "collapsed": true
   },
   "outputs": [],
   "source": []
  }
 ],
 "metadata": {
  "kernelspec": {
   "display_name": "Python 3",
   "language": "python",
   "name": "python3"
  },
  "language_info": {
   "codemirror_mode": {
    "name": "ipython",
    "version": 3
   },
   "file_extension": ".py",
   "mimetype": "text/x-python",
   "name": "python",
   "nbconvert_exporter": "python",
   "pygments_lexer": "ipython3",
   "version": "3.5.3"
  }
 },
 "nbformat": 4,
 "nbformat_minor": 2
}