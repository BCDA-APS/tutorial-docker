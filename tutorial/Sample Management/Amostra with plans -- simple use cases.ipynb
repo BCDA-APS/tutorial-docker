{
 "cells": [
  {
   "cell_type": "code",
   "execution_count": 0,
   "metadata": {
    "collapsed": false
   },
   "outputs": [],
   "source": [
    "from bluesky.plans import count, scan\n",
    "from bluesky.examples import det1, det2, motor  # simulated detectors, motor\n",
    "from amostra.client.local_commands import (LocalSampleReference, \n",
    "                                           LocalContainerReference,\n",
    "                                           LocalRequestReference)"
   ]
  },
  {
   "cell_type": "code",
   "execution_count": 0,
   "metadata": {
    "collapsed": true
   },
   "outputs": [],
   "source": [
    "sample_client = LocalSampleReference('~/.amostra_files')\n",
    "def plan():\n",
    "    yield from count([det1])\n",
    "    yield from scan([det1], motor, 1, 5, 5)\n",
    "    yield from count([det1])\n",
    "\n",
    "def plan1_with_amostra(sample_name):\n",
    "    # Create a sample with given sample name and use it for the scan\n",
    "    sample_client.create(name=sample_name)\n",
    "    yield from count([det1])\n",
    "    yield from scan([det1], motor, 1, 5, 5)\n",
    "    yield from count([det1])\n",
    "\n",
    "def plan2_with_amostra(sample_name):\n",
    "    # Try finding a sample with given sample name and use it for the scan\n",
    "    samp = list(sample_client.find(name=sample_name))\n",
    "    print(samp)\n",
    "    yield from plan1_with_amostra(samp[0])"
   ]
  },
  {
   "cell_type": "code",
   "execution_count": 0,
   "metadata": {
    "collapsed": false
   },
   "outputs": [],
   "source": [
    "RE(plan(), sample_id='A', purpose='calibration', operator='arkilic', sample_name='mock_sample')"
   ]
  },
  {
   "cell_type": "code",
   "execution_count": 0,
   "metadata": {
    "collapsed": false
   },
   "outputs": [],
   "source": [
    "RE(plan1_with_amostra('mock_sample'), sample_name='mock_sample', sample_type='calibration')"
   ]
  },
  {
   "cell_type": "code",
   "execution_count": 0,
   "metadata": {
    "collapsed": false
   },
   "outputs": [],
   "source": [
    "RE(plan2_with_amostra('mock_sample'), sample_name='mock_sample', sample_type='calibration')"
   ]
  },
  {
   "cell_type": "code",
   "execution_count": 0,
   "metadata": {
    "collapsed": true
   },
   "outputs": [],
   "source": []
  }
 ],
 "metadata": {
  "kernelspec": {
   "display_name": "Python 3",
   "language": "python",
   "name": "python3"
  },
  "language_info": {
   "codemirror_mode": {
    "name": "ipython",
    "version": 3
   },
   "file_extension": ".py",
   "mimetype": "text/x-python",
   "name": "python",
   "nbconvert_exporter": "python",
   "pygments_lexer": "ipython3",
   "version": "3.5.2"
  }
 },
 "nbformat": 4,
 "nbformat_minor": 0
}