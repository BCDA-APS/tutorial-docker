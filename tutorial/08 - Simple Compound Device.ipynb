{
 "cells": [
  {
   "cell_type": "markdown",
   "metadata": {},
   "source": [
    "# Simple Compound Device\n",
    "\n",
    "## Configuration\n",
    "\n",
    "This code would normally go in a script automatically run at startup. The user would not have to worry about this."
   ]
  },
  {
   "cell_type": "code",
   "execution_count": 0,
   "metadata": {},
   "outputs": [],
   "source": [
    "%matplotlib notebook\n",
    "import matplotlib.pyplot as plt\n",
    "\n",
    "# Make plots live-update while scans run.\n",
    "from bluesky.utils import install_qt_kicker\n",
    "install_qt_kicker()\n",
    "\n",
    "from bluesky.examples import Syn2DGauss\n",
    "from bluesky import RunEngine\n",
    "from bluesky.callbacks import LiveTable, LiveGrid\n",
    "from bluesky.plans import scan\n",
    "\n",
    "RE = RunEngine()"
   ]
  },
  {
   "cell_type": "markdown",
   "metadata": {},
   "source": [
    "## Data Acquisition\n",
    "\n",
    "### Signals\n",
    "\n",
    "This is a simple Signal. We can read it and set it."
   ]
  },
  {
   "cell_type": "code",
   "execution_count": 0,
   "metadata": {
    "collapsed": true
   },
   "outputs": [],
   "source": [
    "from ophyd import Signal\n",
    "\n",
    "x = Signal(value=0, name='x')"
   ]
  },
  {
   "cell_type": "code",
   "execution_count": 0,
   "metadata": {},
   "outputs": [],
   "source": [
    "x.read()"
   ]
  },
  {
   "cell_type": "code",
   "execution_count": 0,
   "metadata": {},
   "outputs": [],
   "source": [
    "x.set(3)"
   ]
  },
  {
   "cell_type": "code",
   "execution_count": 0,
   "metadata": {},
   "outputs": [],
   "source": [
    "x.read()"
   ]
  },
  {
   "cell_type": "markdown",
   "metadata": {},
   "source": [
    "The RunEngine calls these methods on ``x`` for us when we scan it:"
   ]
  },
  {
   "cell_type": "code",
   "execution_count": 0,
   "metadata": {},
   "outputs": [],
   "source": [
    "RE(scan([], x, -1, 1, 3), LiveTable(['x']))"
   ]
  },
  {
   "cell_type": "markdown",
   "metadata": {},
   "source": [
    "The ``Signal`` class is a \"soft\" signal not communicating with physical hardware. At beamlines, we more often use ``EpicsSignal`` which takes a PV string as its argument.\n",
    "\n",
    "```python\n",
    "x = EpicsSignal('PV:...', name ='x')\n",
    "```"
   ]
  },
  {
   "cell_type": "markdown",
   "metadata": {},
   "source": [
    "### Device\n",
    "\n",
    "A Device is composed of Signals (or other Devices) that are bundled to create logical groups that map to our notion of a physical piece of hardware -- for example, an XY stage."
   ]
  },
  {
   "cell_type": "code",
   "execution_count": 0,
   "metadata": {},
   "outputs": [],
   "source": [
    "from ophyd import Device, Component as Cpt\n",
    "\n",
    "class XYStage(Device):\n",
    "    x = Cpt(Signal, value=0)\n",
    "    y = Cpt(Signal, value=0)\n",
    "\n",
    "\n",
    "stage = XYStage('', name='stage')"
   ]
  },
  {
   "cell_type": "markdown",
   "metadata": {},
   "source": [
    "The readings from x and y are collated into one dictionary. The names of the components ('x' and 'y') are joined with the name of the overall device ('stage')."
   ]
  },
  {
   "cell_type": "code",
   "execution_count": 0,
   "metadata": {},
   "outputs": [],
   "source": [
    "stage.read()"
   ]
  },
  {
   "cell_type": "markdown",
   "metadata": {},
   "source": [
    "Each component signal can still be read or set individually."
   ]
  },
  {
   "cell_type": "code",
   "execution_count": 0,
   "metadata": {},
   "outputs": [],
   "source": [
    "stage.x.set(2)\n",
    "stage.x.read()"
   ]
  },
  {
   "cell_type": "code",
   "execution_count": 0,
   "metadata": {},
   "outputs": [],
   "source": [
    "stage.read()"
   ]
  },
  {
   "cell_type": "markdown",
   "metadata": {},
   "source": [
    "### Built-in Devices"
   ]
  },
  {
   "attachments": {},
   "cell_type": "markdown",
   "metadata": {},
   "source": [
    "Ophyd includes some built-in Devices for EPICS. For example, ``EpicsMotor`` looks something like this:\n",
    "\n",
    "```python\n",
    "class EpicsMotor(Device):\n",
    "    # position\n",
    "    user_readback = Cpt(EpicsSignalRO, '.RBV')\n",
    "    user_setpoint = Cpt(EpicsSignal, '.VAL', limits=True)\n",
    "\n",
    "    # calibration dial <-> user\n",
    "    user_offset = Cpt(EpicsSignal, '.OFF')\n",
    "    user_offset_dir = Cpt(EpicsSignal, '.DIR')\n",
    "    offset_freeze_switch = Cpt(EpicsSignal, '.FOFF')\n",
    "    set_use_switch = Cpt(EpicsSignal, '.SET')\n",
    "\n",
    "    # configuration\n",
    "    velocity = Cpt(EpicsSignal, '.VELO')\n",
    "    acceleration = Cpt(EpicsSignal, '.ACCL')\n",
    "    motor_egu = Cpt(EpicsSignal, '.EGU')\n",
    "\n",
    "    # motor status\n",
    "    motor_is_moving = Cpt(EpicsSignalRO, '.MOVN')\n",
    "    motor_done_move = Cpt(EpicsSignalRO, '.DMOV')\n",
    "    high_limit_switch = Cpt(EpicsSignal, '.HLS')\n",
    "    low_limit_switch = Cpt(EpicsSignal, '.LLS')\n",
    "    direction_of_travel = Cpt(EpicsSignal, '.TDIR')\n",
    "\n",
    "    # commands\n",
    "    motor_stop = Cpt(EpicsSignal, '.STOP')\n",
    "    home_forward = Cpt(EpicsSignal, '.HOMF')\n",
    "    home_reverse = Cpt(EpicsSignal, '.HOMR')\n",
    "\n",
    "    ...\n",
    "```\n",
    "\n",
    "Connecting to a specific motor looks like:\n",
    "\n",
    "```python\n",
    "motor = EpicsMotor('PV:...')\n",
    "```\n",
    "\n",
    "Likewise, connecting to an area detector is simple:\n",
    "\n",
    "```python\n",
    "ccd = Prosilica('PV:...')  # an area detector\n",
    "```"
   ]
  },
  {
   "cell_type": "markdown",
   "metadata": {},
   "source": [
    "### Using the custom XY Stage Device in a raster scan"
   ]
  },
  {
   "cell_type": "code",
   "execution_count": 0,
   "metadata": {
    "collapsed": true
   },
   "outputs": [],
   "source": [
    "from bluesky.plans import outer_product_scan, subs_wrapper\n",
    "\n",
    "# Define a simulated detector that is coupled to our simulated XY stage.\n",
    "det = Syn2DGauss('det',\n",
    "                 stage.x, 'stage_x',\n",
    "                 stage.y, 'stage_y',\n",
    "                 center=(1, -1),\n",
    "                 Imax=1000,\n",
    "                 sigma=10,\n",
    "                 noise='poisson')\n",
    "det.exposure_time = 0.1\n",
    "\n",
    "def raster_scan(x_start, x_stop, NX,\n",
    "                y_start, y_stop, NY):\n",
    "    \"A variation on outer_product_scan that includes LiveGrid and LiveTable built in.\"\n",
    "    fig, ax = plt.subplots()\n",
    "    lg = LiveGrid((NY, NX), 'det',\n",
    "                  xlabel='stage_x', ylabel='stage_y',\n",
    "                  ax=ax,\n",
    "                  extent=(x_start, x_stop,\n",
    "                          y_start, y_stop))\n",
    "    lt = LiveTable([det, stage])\n",
    "\n",
    "    return (yield from subs_wrapper(\n",
    "        outer_product_scan([det],\n",
    "                  stage.y, y_start, y_stop, NY,\n",
    "                  stage.x, x_start, x_stop, NX,\n",
    "                  True),\n",
    "        [lg, lt]))"
   ]
  },
  {
   "cell_type": "code",
   "execution_count": 0,
   "metadata": {},
   "outputs": [],
   "source": [
    "RE(raster_scan(-1, 1, 3, -1, 1, 3))"
   ]
  },
  {
   "cell_type": "code",
   "execution_count": 0,
   "metadata": {
    "collapsed": true
   },
   "outputs": [],
   "source": []
  }
 ],
 "metadata": {
  "kernelspec": {
   "display_name": "Python 3",
   "language": "python",
   "name": "python3"
  },
  "language_info": {
   "codemirror_mode": {
    "name": "ipython",
    "version": 3
   },
   "file_extension": ".py",
   "mimetype": "text/x-python",
   "name": "python",
   "nbconvert_exporter": "python",
   "pygments_lexer": "ipython3",
   "version": "3.5.3"
  }
 },
 "nbformat": 4,
 "nbformat_minor": 2
}