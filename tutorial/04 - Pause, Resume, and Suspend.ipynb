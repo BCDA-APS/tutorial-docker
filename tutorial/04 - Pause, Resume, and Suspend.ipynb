{
 "cells": [
  {
   "cell_type": "markdown",
   "metadata": {},
   "source": [
    "# Pause, Resume, and Suspend"
   ]
  },
  {
   "cell_type": "markdown",
   "metadata": {},
   "source": [
    "## Configuration\n",
    "\n",
    "This code would normally go in a script automatically run at startup. The user would not have to worry about this."
   ]
  },
  {
   "cell_type": "code",
   "execution_count": 0,
   "metadata": {
    "collapsed": true
   },
   "outputs": [],
   "source": [
    "%matplotlib notebook\n",
    "\n",
    "from bluesky import RunEngine\n",
    "from bluesky.plans import scan, count\n",
    "from bluesky.callbacks import LiveTable, LivePlot\n",
    "\n",
    "# Set up simulated hardware.\n",
    "from bluesky.examples import motor, SynGauss\n",
    "det = SynGauss('det', motor, 'motor', center=0, Imax=1,\n",
    "               noise='uniform', sigma=1, noise_multiplier=0.1)\n",
    "\n",
    "RE = RunEngine({})\n",
    "table = LiveTable(['det', 'motor'])"
   ]
  },
  {
   "cell_type": "markdown",
   "metadata": {},
   "source": [
    "## Data Acquisition\n",
    "\n",
    "### Interactively Pausing"
   ]
  },
  {
   "cell_type": "code",
   "execution_count": 0,
   "metadata": {},
   "outputs": [],
   "source": [
    "# counts forever until interrupted -- press 'stop' button in the notebook (in the terminal, you would use Ctrl+C)\n",
    "RE(count([det], delay=1, num=None), table)"
   ]
  },
  {
   "cell_type": "markdown",
   "metadata": {},
   "source": [
    "The RunEngine is paused! Our choices:\n",
    "\n",
    "|Command    |    Outcome|\n",
    "|-----|-----|\n",
    "|`RE.resume()`   |Safely resume plan.|\n",
    "|`RE.abort()`    |Perform cleanup. Mark as aborted.|\n",
    "|`RE.stop()`     |Perform cleanup. Mark as success.|\n",
    "|`RE.halt()`     |Do not perform cleanup --- just stop.|\n",
    "|`RE.state`      |Check if 'paused' or 'idle'.|\n",
    "|-----|-----|"
   ]
  },
  {
   "cell_type": "markdown",
   "metadata": {},
   "source": [
    "While the RunEngine is paused, you have control of the prompt. You can check on things."
   ]
  },
  {
   "cell_type": "code",
   "execution_count": 0,
   "metadata": {},
   "outputs": [],
   "source": [
    "1 + 1"
   ]
  },
  {
   "cell_type": "code",
   "execution_count": 0,
   "metadata": {},
   "outputs": [],
   "source": [
    "det.read()"
   ]
  },
  {
   "cell_type": "markdown",
   "metadata": {},
   "source": [
    "### Safely Resuming"
   ]
  },
  {
   "cell_type": "code",
   "execution_count": 0,
   "metadata": {},
   "outputs": [],
   "source": [
    "# Again, we need to press 'stop' or this will run forever....\n",
    "RE.resume()"
   ]
  },
  {
   "cell_type": "markdown",
   "metadata": {},
   "source": [
    "### Exit options: abort, stop, and halt"
   ]
  },
  {
   "cell_type": "markdown",
   "metadata": {},
   "source": [
    "Paused again. Once more, our choices:\n",
    "\n",
    "|Command    |    Outcome|\n",
    "|-----|-----|\n",
    "|`RE.resume()`   |Safely resume plan.|\n",
    "|`RE.abort()`    |Perform cleanup. Mark as aborted.|\n",
    "|`RE.stop()`     |Perform cleanup. Mark as success.|\n",
    "|`RE.halt()`     |Do not perform cleanup --- just stop.|\n",
    "|`RE.state`      |Check if 'paused' or 'idle'.|\n",
    "|-----|-----|"
   ]
  },
  {
   "cell_type": "code",
   "execution_count": 0,
   "metadata": {},
   "outputs": [],
   "source": [
    "RE.abort()"
   ]
  },
  {
   "cell_type": "markdown",
   "metadata": {},
   "source": [
    "Compare 'abort' to 'stop' and 'halt':"
   ]
  },
  {
   "cell_type": "code",
   "execution_count": 0,
   "metadata": {},
   "outputs": [],
   "source": [
    "RE(count([det], delay=1, num=None), table)"
   ]
  },
  {
   "cell_type": "code",
   "execution_count": 0,
   "metadata": {},
   "outputs": [],
   "source": [
    "RE.stop()"
   ]
  },
  {
   "cell_type": "code",
   "execution_count": 0,
   "metadata": {},
   "outputs": [],
   "source": [
    "RE(count([det], delay=1, num=None), table)"
   ]
  },
  {
   "cell_type": "code",
   "execution_count": 0,
   "metadata": {},
   "outputs": [],
   "source": [
    "RE.halt()"
   ]
  },
  {
   "cell_type": "markdown",
   "metadata": {},
   "source": [
    "### What happens if you try to run a new plan from a paused state?"
   ]
  },
  {
   "cell_type": "code",
   "execution_count": 0,
   "metadata": {},
   "outputs": [],
   "source": [
    "RE(count([det], delay=1, num=None), table)"
   ]
  },
  {
   "cell_type": "code",
   "execution_count": 0,
   "metadata": {},
   "outputs": [],
   "source": [
    "RE(count([det], delay=1, num=None), table)"
   ]
  },
  {
   "cell_type": "code",
   "execution_count": 0,
   "metadata": {},
   "outputs": [],
   "source": [
    "RE.state"
   ]
  },
  {
   "cell_type": "code",
   "execution_count": 0,
   "metadata": {},
   "outputs": [],
   "source": [
    "RE.abort()"
   ]
  },
  {
   "cell_type": "code",
   "execution_count": 0,
   "metadata": {},
   "outputs": [],
   "source": [
    "RE.state"
   ]
  },
  {
   "cell_type": "markdown",
   "metadata": {},
   "source": [
    "### Configure a \"suspender\"\n",
    "\n",
    "Suspenders are agents set up in advance to run in the background and pause/resume a scan in response to some condition (like a beam dump)."
   ]
  },
  {
   "cell_type": "code",
   "execution_count": 0,
   "metadata": {},
   "outputs": [],
   "source": [
    "from bluesky.suspenders import SuspendFloor\n",
    "import ophyd\n",
    "\n",
    "current = ophyd.Signal(name='beam_current')\n",
    "\n",
    "sus = SuspendFloor(current, 50, sleep=1)\n",
    "RE.install_suspender(sus)"
   ]
  },
  {
   "cell_type": "code",
   "execution_count": 0,
   "metadata": {},
   "outputs": [],
   "source": [
    "##### Simulate a beam dump and recovery after 3 seconds....\n",
    "import threading\n",
    "import time\n",
    "\n",
    "def delay_dump_delay_recover():\n",
    "    time.sleep(3)\n",
    "    sig.set(0)\n",
    "    time.sleep(3)\n",
    "    sig.set(100)\n",
    "\n",
    "sig.set(100)\n",
    "thread = threading.Thread(target=delay_dump_delay_recover)\n",
    "thread.start()\n",
    "#####\n",
    "\n",
    "RE(count([det], num=10, delay=1), table)"
   ]
  },
  {
   "cell_type": "code",
   "execution_count": 0,
   "metadata": {
    "collapsed": true
   },
   "outputs": [],
   "source": []
  }
 ],
 "metadata": {
  "kernelspec": {
   "display_name": "Python 3",
   "language": "python",
   "name": "python3"
  },
  "language_info": {
   "codemirror_mode": {
    "name": "ipython",
    "version": 3
   },
   "file_extension": ".py",
   "mimetype": "text/x-python",
   "name": "python",
   "nbconvert_exporter": "python",
   "pygments_lexer": "ipython3",
   "version": "3.5.3"
  }
 },
 "nbformat": 4,
 "nbformat_minor": 2
}