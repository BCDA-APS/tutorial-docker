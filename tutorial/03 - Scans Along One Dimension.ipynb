{
 "cells": [
  {
   "cell_type": "markdown",
   "metadata": {},
   "source": [
    "# Scans Along One Dimension"
   ]
  },
  {
   "cell_type": "markdown",
   "metadata": {},
   "source": [
    "## Configuration\n",
    "\n",
    "This code would normally go in a script automatically run at startup. The user would not have to worry about this."
   ]
  },
  {
   "cell_type": "code",
   "execution_count": 0,
   "metadata": {
    "collapsed": true
   },
   "outputs": [],
   "source": [
    "%matplotlib notebook\n",
    "\n",
    "# Make plots live-update while scans run.\n",
    "from bluesky.utils import install_nb_kicker\n",
    "install_nb_kicker()\n",
    "\n",
    "from bluesky import RunEngine\n",
    "from bluesky.plans import scan, relative_scan, list_scan\n",
    "from bluesky.callbacks import LiveTable, LivePlot\n",
    "\n",
    "# Set up simulated hardware.\n",
    "from bluesky.examples import motor, SynGauss\n",
    "det = SynGauss('det', motor, 'motor', center=0, Imax=1,\n",
    "               noise='uniform', sigma=1, noise_multiplier=0.1)\n",
    "\n",
    "RE = RunEngine({})"
   ]
  },
  {
   "cell_type": "markdown",
   "metadata": {},
   "source": [
    "### Setting up Subscriptions"
   ]
  },
  {
   "cell_type": "code",
   "execution_count": 0,
   "metadata": {
    "scrolled": false
   },
   "outputs": [],
   "source": [
    "table = LiveTable(['det', 'motor_setpoint', 'motor'])\n",
    "plot = LivePlot('det', 'motor')"
   ]
  },
  {
   "cell_type": "code",
   "execution_count": 0,
   "metadata": {
    "collapsed": true
   },
   "outputs": [],
   "source": [
    "s = [table, plot]"
   ]
  },
  {
   "cell_type": "markdown",
   "metadata": {},
   "source": [
    "## Data Acquisition\n",
    "\n",
    "### Executing `scan`, `relative_scan`, and `list_scan`"
   ]
  },
  {
   "cell_type": "code",
   "execution_count": 0,
   "metadata": {},
   "outputs": [],
   "source": [
    "# scan a motor from -5 to 5, taking 10 equally-spaced readings of 'det'\n",
    "RE(scan([det], motor, -5, 5, 10), s)"
   ]
  },
  {
   "cell_type": "code",
   "execution_count": 0,
   "metadata": {},
   "outputs": [],
   "source": [
    "# scan a motor from -5 to 5 *relative to its current position*\n",
    "RE(relative_scan([det], motor, -5, 5, 10), s)"
   ]
  },
  {
   "cell_type": "code",
   "execution_count": 0,
   "metadata": {},
   "outputs": [],
   "source": [
    "# scan a motor through a list of user-specified positions\n",
    "RE(list_scan([det], motor, [1, 1, 2, 3, 5, 8]), s)"
   ]
  },
  {
   "cell_type": "markdown",
   "metadata": {},
   "source": [
    "### Using `print_summary` to inspect a plan without executing it (one approach to \"simulation mode\")"
   ]
  },
  {
   "cell_type": "code",
   "execution_count": 0,
   "metadata": {},
   "outputs": [],
   "source": [
    "from bluesky.plan_tools import print_summary\n",
    "\n",
    "print_summary(scan([det], motor, -1, 1, 5))"
   ]
  },
  {
   "cell_type": "code",
   "execution_count": 0,
   "metadata": {},
   "outputs": [],
   "source": [
    "print_summary(relative_scan([det], motor, -1, 1, 5))"
   ]
  },
  {
   "cell_type": "markdown",
   "metadata": {},
   "source": [
    "### Composing plans"
   ]
  },
  {
   "cell_type": "code",
   "execution_count": 0,
   "metadata": {
    "collapsed": true
   },
   "outputs": [],
   "source": [
    "def rough_and_fine(detectors, motor, start, stop, rough=10, fine=100):\n",
    "    \"Scan a domain twice, first with widely-spaced and then finely-spaced points.\"\n",
    "    yield from scan(detectors, motor, start, stop, num=rough)\n",
    "    yield from scan(detectors, motor, start, stop, num=fine)"
   ]
  },
  {
   "cell_type": "code",
   "execution_count": 0,
   "metadata": {
    "scrolled": false
   },
   "outputs": [],
   "source": [
    "plot = LivePlot('det', 'motor')\n",
    "RE(rough_and_fine([det], motor, -10, 10), [table, plot])"
   ]
  },
  {
   "cell_type": "markdown",
   "metadata": {},
   "source": [
    "## Exercises\n",
    "\n",
    "\n",
    "1. All the examples in this notebooks scan from \"left\" to \"right\" (negative to positive). Invoke ``scan`` in a way that scans from right to left.\n",
    "2. Define a variant of ``rough_and_fine`` that scans relative to the current motor position.\n",
    "3. Use ``list_scan`` to sample quadratically-spaced points."
   ]
  }
 ],
 "metadata": {
  "kernelspec": {
   "display_name": "Python 3",
   "language": "python",
   "name": "python3"
  },
  "language_info": {
   "codemirror_mode": {
    "name": "ipython",
    "version": 3
   },
   "file_extension": ".py",
   "mimetype": "text/x-python",
   "name": "python",
   "nbconvert_exporter": "python",
   "pygments_lexer": "ipython3",
   "version": "3.5.3"
  }
 },
 "nbformat": 4,
 "nbformat_minor": 2
}