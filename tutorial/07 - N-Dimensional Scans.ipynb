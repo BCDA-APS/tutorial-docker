{
 "cells": [
  {
   "cell_type": "markdown",
   "metadata": {},
   "source": [
    "# N-dimensional scans\n",
    "\n",
    "## Configuration\n",
    "\n",
    "This code would normally go in a script automatically run at startup. The user would not have to worry about this."
   ]
  },
  {
   "cell_type": "code",
   "execution_count": 0,
   "metadata": {
    "collapsed": true
   },
   "outputs": [],
   "source": [
    "%matplotlib notebook\n",
    "\n",
    "# Make plots live-update while scans run.\n",
    "from bluesky.utils import install_nb_kicker\n",
    "install_nb_kicker()\n",
    "\n",
    "from bluesky import RunEngine\n",
    "from bluesky.plans import inner_product_scan, outer_product_scan\n",
    "from bluesky.callbacks import LiveTable, LivePlot\n",
    "\n",
    "# Set up simulated hardware.\n",
    "from bluesky.examples import det, motor1, motor2\n",
    "motor1._fake_sleep = 0.1\n",
    "motor2._fake_sleep = 0.1\n",
    "\n",
    "RE = RunEngine({})\n",
    "table = LiveTable(['det', 'motor'])"
   ]
  },
  {
   "cell_type": "markdown",
   "metadata": {},
   "source": [
    "## Data Acquisition\n",
    "\n",
    "### \"Inner Product Scan\": move motors together"
   ]
  },
  {
   "cell_type": "code",
   "execution_count": 0,
   "metadata": {},
   "outputs": [],
   "source": [
    "# Move motor1 from 1-5 while moving motor2 from 10-50 -- both in 5 steps.\n",
    "RE(inner_product_scan([det], 5,\n",
    "                      motor1, 1, 5,\n",
    "                      motor2, 10, 50),\n",
    "   LiveTable(['det', 'motor1', 'motor2']))"
   ]
  },
  {
   "cell_type": "markdown",
   "metadata": {},
   "source": [
    "As we did for `scan` in a previous notebook, we can inspect the plan without executing it."
   ]
  },
  {
   "cell_type": "code",
   "execution_count": 0,
   "metadata": {},
   "outputs": [],
   "source": [
    "from bluesky.plan_tools import print_summary\n",
    "\n",
    "print_summary(inner_product_scan([det], 5, motor1, 1, 5, motor2, 10, 50))"
   ]
  },
  {
   "cell_type": "markdown",
   "metadata": {},
   "source": [
    "We can also visualize the plan's trajectory (again, without actually moving any motors)."
   ]
  },
  {
   "cell_type": "code",
   "execution_count": 0,
   "metadata": {},
   "outputs": [],
   "source": [
    "from bluesky.plan_tools import plot_raster_path\n",
    "\n",
    "plot_raster_path(inner_product_scan([det], 5, motor1, 1, 20, motor2, 10, 50),\n",
    "                 x_motor='motor1',\n",
    "                 y_motor='motor2');"
   ]
  },
  {
   "cell_type": "markdown",
   "metadata": {},
   "source": [
    "### \"Outer Product Scan\": move motors in a mesh"
   ]
  },
  {
   "cell_type": "code",
   "execution_count": 0,
   "metadata": {},
   "outputs": [],
   "source": [
    "# Move motor1 from 1-3 in 3 steps and motor2 from 10-50 in 5 steps.\n",
    "RE(outer_product_scan([det4],\n",
    "                      motor1, 1, 3, 3,\n",
    "                      motor2, 10, 50, 5, False),\n",
    "   LiveTable(['det4', 'motor1', 'motor2']))"
   ]
  },
  {
   "cell_type": "markdown",
   "metadata": {},
   "source": [
    "The last parameter passed to ``outer_product_scan`` (``False``) controls whether the trajectory is \"snaked\" or not. Observe the difference when we visualize the trajectory:"
   ]
  },
  {
   "cell_type": "code",
   "execution_count": 0,
   "metadata": {},
   "outputs": [],
   "source": [
    "from bluesky.plan_tools import plot_raster_path\n",
    "\n",
    "plot_raster_path(outer_product_scan([det],motor1, 1, 30, 3, motor2, 10, 50, 5, False),\n",
    "                 x_motor='motor1',\n",
    "                 y_motor='motor2');"
   ]
  },
  {
   "cell_type": "code",
   "execution_count": 0,
   "metadata": {},
   "outputs": [],
   "source": [
    "from bluesky.plan_tools import plot_raster_path\n",
    "\n",
    "plot_raster_path(outer_product_scan([det], motor1, 1, 30, 3, motor2, 10, 50, 5, True),\n",
    "                 x_motor='motor1',\n",
    "                 y_motor='motor2');"
   ]
  },
  {
   "cell_type": "markdown",
   "metadata": {},
   "source": [
    "Use ``LiveGrid`` to visualize the detector readings as a heatmap."
   ]
  },
  {
   "cell_type": "code",
   "execution_count": 0,
   "metadata": {},
   "outputs": [],
   "source": [
    "from bluesky.callbacks import LiveGrid\n",
    "\n",
    "# The 'det4' example detector a 2D Gaussian function of motor1, motor2.\n",
    "from bluesky.examples import det4\n",
    "\n",
    "RE(outer_product_scan([det4], motor1, -3, 3, 6, motor2, -5, 5, 10, False),\n",
    "   LiveGrid((6, 10), 'det4'), clim=(0, 1))"
   ]
  },
  {
   "cell_type": "code",
   "execution_count": 0,
   "metadata": {
    "collapsed": true
   },
   "outputs": [],
   "source": [
    "LiveGrid?"
   ]
  },
  {
   "cell_type": "code",
   "execution_count": 0,
   "metadata": {
    "collapsed": true
   },
   "outputs": [],
   "source": []
  }
 ],
 "metadata": {
  "kernelspec": {
   "display_name": "Python 3",
   "language": "python",
   "name": "python3"
  },
  "language_info": {
   "codemirror_mode": {
    "name": "ipython",
    "version": 3
   },
   "file_extension": ".py",
   "mimetype": "text/x-python",
   "name": "python",
   "nbconvert_exporter": "python",
   "pygments_lexer": "ipython3",
   "version": "3.5.3"
  }
 },
 "nbformat": 4,
 "nbformat_minor": 2
}