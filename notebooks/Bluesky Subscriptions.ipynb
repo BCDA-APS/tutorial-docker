{
 "cells": [
  {
   "cell_type": "markdown",
   "metadata": {},
   "source": [
    "# Bluesky Subscriptions\n",
    "\n",
    "See https://nsls-ii.github.io/bluesky for proper documentation."
   ]
  },
  {
   "cell_type": "markdown",
   "metadata": {},
   "source": [
    "Users walk in on an open IPython session that has already run a bunch of startup scripts. These scripts create an instance of a RunEngine, probably set some metadata, connect the RunEngine to metadatastore. They also define scan objects that pre-configured to dispatch the results from the scan to \"Document consumers\" that do thing like print to the screen and make plots. Finally, they define instances of Python objects that represent hardware. Currently, all of the objects come from the ophyd package, but they could also be from pyepics directly or some other package. They just have to have methods like `read()`."
   ]
  },
  {
   "cell_type": "code",
   "execution_count": 0,
   "metadata": {
    "collapsed": false
   },
   "outputs": [],
   "source": [
    "%matplotlib notebook\n",
    "from bluesky.examples import motor, det\n",
    "from bluesky.run_engine import RunEngine\n",
    "import bluesky.scans\n",
    "from bluesky.callbacks import CallbackBase, LiveTable, LivePlot"
   ]
  },
  {
   "cell_type": "code",
   "execution_count": 0,
   "metadata": {
    "collapsed": true
   },
   "outputs": [],
   "source": [
    "RE = RunEngine({'owner': 'demo', 'group': 'demo', 'beamline_id': 'demo'})  # bare minimum required metadata"
   ]
  },
  {
   "cell_type": "code",
   "execution_count": 0,
   "metadata": {
    "collapsed": true
   },
   "outputs": [],
   "source": [
    "# Define a plan.\n",
    "plan = bluesky.scans.AbsScan([det], motor, 1, 5, 5)  # This obj encapsulates the instruction for a kind of scan."
   ]
  },
  {
   "cell_type": "code",
   "execution_count": 0,
   "metadata": {
    "collapsed": false
   },
   "outputs": [],
   "source": [
    "# Execute the plan.\n",
    "RE(plan)"
   ]
  },
  {
   "cell_type": "markdown",
   "metadata": {},
   "source": [
    "That was fine, but we got no feedback. Document were generated but they went nowhere. They are gone."
   ]
  },
  {
   "cell_type": "code",
   "execution_count": 0,
   "metadata": {
    "collapsed": true
   },
   "outputs": [],
   "source": [
    "# One way to set up a subscription is to associate with a scan object.\n",
    "plan.subs = LiveTable(['det'])"
   ]
  },
  {
   "cell_type": "code",
   "execution_count": 0,
   "metadata": {
    "collapsed": false
   },
   "outputs": [],
   "source": [
    "RE(plan)"
   ]
  },
  {
   "cell_type": "code",
   "execution_count": 0,
   "metadata": {
    "collapsed": false
   },
   "outputs": [],
   "source": [
    "# We can have as many subscriptions as we want.\n",
    "plan.subs = [LiveTable(['det']), LivePlot('det')]\n",
    "# Calling LivePlot creates the figure. When a run a scan with ascan, it will be filled with data."
   ]
  },
  {
   "cell_type": "code",
   "execution_count": 0,
   "metadata": {
    "collapsed": false
   },
   "outputs": [],
   "source": [
    "RE(plan)"
   ]
  },
  {
   "cell_type": "code",
   "execution_count": 0,
   "metadata": {
    "collapsed": false
   },
   "outputs": [],
   "source": [
    "RE(plan)"
   ]
  },
  {
   "cell_type": "code",
   "execution_count": 0,
   "metadata": {
    "collapsed": false
   },
   "outputs": [],
   "source": [
    "def my_callback(name, doc):\n",
    "    \"a very simple custom callback\"\n",
    "    if name == 'start':\n",
    "        print('My scan id is', doc['scan_id'])\n",
    "    elif name == 'event':\n",
    "        print('This is event number', doc['seq_num'])\n",
    "    elif name == 'stop':\n",
    "        print('We are done')"
   ]
  },
  {
   "cell_type": "code",
   "execution_count": 0,
   "metadata": {
    "collapsed": false
   },
   "outputs": [],
   "source": [
    "RE(plan, subs=my_callback)"
   ]
  },
  {
   "cell_type": "code",
   "execution_count": 0,
   "metadata": {
    "collapsed": true
   },
   "outputs": [],
   "source": [
    "class MyLiveCallback(CallbackBase):\n",
    "    \"\"\"\n",
    "    The CallbackBase class dispatches each kind of document\n",
    "    to an associated method.\n",
    "    \"\"\"\n",
    "    \n",
    "    def start(self, doc):\n",
    "        print(doc)\n",
    "    \n",
    "    def event(self, doc):\n",
    "        print(doc)\n",
    "    \n",
    "    def descriptor(self, doc):\n",
    "        print(doc)\n",
    "    \n",
    "    def stop(self, doc):\n",
    "        print(doc)"
   ]
  },
  {
   "cell_type": "code",
   "execution_count": 0,
   "metadata": {
    "collapsed": false
   },
   "outputs": [],
   "source": [
    "# To use a subscription for just a particular run -- not every time you run 'ascan' -- pass it as an argument like so.\n",
    "RE(plan, subs=MyLiveCallback())"
   ]
  }
 ],
 "metadata": {
  "kernelspec": {
   "display_name": "Python 3",
   "language": "python",
   "name": "python3"
  },
  "language_info": {
   "codemirror_mode": {
    "name": "ipython",
    "version": 3
   },
   "file_extension": ".py",
   "mimetype": "text/x-python",
   "name": "python",
   "nbconvert_exporter": "python",
   "pygments_lexer": "ipython3",
   "version": "3.4.3"
  }
 },
 "nbformat": 4,
 "nbformat_minor": 0
}