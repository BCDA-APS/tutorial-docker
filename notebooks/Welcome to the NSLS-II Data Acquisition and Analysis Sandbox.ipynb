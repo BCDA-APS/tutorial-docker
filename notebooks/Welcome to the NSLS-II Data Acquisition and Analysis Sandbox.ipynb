{
 "cells": [
  {
   "cell_type": "markdown",
   "metadata": {},
   "source": [
    "# Welcome"
   ]
  },
  {
   "cell_type": "markdown",
   "metadata": {},
   "source": [
    "## What is this?\n",
    "\n",
    "This is a personal \"sandbox\" environment, stocked with example data, demos, and tutorials that you can run and modify. All of the software you'll need is already installed and ready to use. You have total control over this environment. You can freely experiment; your changes do not affect anyone else's sandbox. After a period of inactivity, all your changes will be swept away to make space for the next visitor.\n",
    "\n",
    "This is powered by [tmpnb](github.com/jupyter/tmpnb), part of the [Jupyter](github.com/jupyter/tmpnb) project."
   ]
  },
  {
   "cell_type": "markdown",
   "metadata": {
    "collapsed": true
   },
   "source": [
    "## An Introductory Example\n",
    "\n",
    "Get data from the most recent run and show it in a table."
   ]
  },
  {
   "cell_type": "code",
   "execution_count": 0,
   "metadata": {
    "collapsed": true
   },
   "outputs": [],
   "source": [
    "from databroker import DataBroker as db, get_table"
   ]
  },
  {
   "cell_type": "code",
   "execution_count": 0,
   "metadata": {
    "collapsed": false
   },
   "outputs": [],
   "source": [
    "db[-1]"
   ]
  },
  {
   "cell_type": "code",
   "execution_count": 0,
   "metadata": {
    "collapsed": false
   },
   "outputs": [],
   "source": [
    "get_table(db[-1])"
   ]
  }
 ],
 "metadata": {
  "kernelspec": {
   "display_name": "Python 3",
   "language": "python",
   "name": "python3"
  },
  "language_info": {
   "codemirror_mode": {
    "name": "ipython",
    "version": 3
   },
   "file_extension": ".py",
   "mimetype": "text/x-python",
   "name": "python",
   "nbconvert_exporter": "python",
   "pygments_lexer": "ipython3",
   "version": "3.4.3"
  }
 },
 "nbformat": 4,
 "nbformat_minor": 0
}